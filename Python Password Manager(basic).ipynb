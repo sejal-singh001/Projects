{
  "cells": [
    {
      "cell_type": "code",
      "execution_count": 1,
      "metadata": {
        "id": "yULsoFmWEWqw"
      },
      "outputs": [],
      "source": [
        "class BasePasswordManager:\n",
        "#    members\n",
        "#        old_passwords: is a list that holds all of the user's past\n",
        "#                       passwords.\n",
        "#                       The last item of the list is the user's current password.\n",
        "    old_passwords = [];  \n",
        "\n",
        "    def __init__(self):\n",
        "        self.old_passwords = []\n",
        "       \n",
        "        # self.name = name\n",
        "        # self.old_passwords = []\n",
        " \n",
        "     #curr_password = old_passwords[-1]  \n",
        "\n",
        "#      methods\n",
        "#        get_password method that returns the current password as a string.  \n",
        "    def get_password(self):\n",
        "         if len(self.old_passwords) != 0:\n",
        "            # curr_password = self.old_passwords[-1]\n",
        "            return self.old_passwords[-1]\n",
        "         return \"You hav not entered any Password yet....!\"\n",
        "\n",
        "    def print(self):\n",
        "      print(\"\\n\",self.old_passwords[-1],\"\\n\")            \n",
        "# \n",
        "#   is_correct method that receives a string and returns a boolean\n",
        "#             True or False depending on whether the string is equal to\n",
        "#             the current password or not.\n",
        "    def is_correct(self, pw):\n",
        "        if len(self.old_passwords)!=0:\n",
        "           if(pw == self.old_passwords[-1]):\n",
        "             return True\n",
        "           return False  \n",
        "            \n"
      ]
    },
    {
      "cell_type": "code",
      "execution_count": 2,
      "metadata": {
        "id": "n1SVDre1IOwJ"
      },
      "outputs": [],
      "source": [
        "class PasswordManager(BasePasswordManager):\n",
        "#    This class inherits from BasePasswordManager\n",
        "# \n",
        "#    methods\n",
        "#         set_password method that sets the user's password.\n",
        "#             Password change is successful only if:\n",
        "#                  - Security level of the new password is greater.\n",
        "#                  - Length of new password is minimum 6\n",
        "#         However, if the old password already has the highest security level,\n",
        "#         new password must be of the highest security level for a successful password change.           \n",
        "  def set_password(self,new_password):\n",
        "    if self.is_correct(new_password):\n",
        "      print(\"You can't use old password. Please choose another Password... \\n\")\n",
        "      return()\n",
        "    if len(self.old_passwords) == 0:\n",
        "      print('Welcome New User........!')\n",
        "      self.old_passwords.append(new_password)\n",
        "      print('************ Your first Password added...***********\\n')\n",
        "    elif len(new_password) >= 6 and (self.get_level(new_password) > self.get_level(self.old_passwords[-1]) or self.get_level(new_password) == 2):\n",
        "      self.old_passwords.append(new_password)\n",
        "      print('*****************  Password change Successful...!!!***************')\n",
        "    elif self.get_level(new_password) == -1:\n",
        "      print('Not Accepted -- does not have alphabets or numbers or both \\n')\n",
        "    else:\n",
        "      print('Please Re-enter more strong password \\n')\n",
        "\n",
        "#        get_level method that returns the security level of the current password.\n",
        "#             It can also check and return the security level of a new password passed as a string.\n",
        "# \n",
        "#Security levels:\n",
        "#         level 0 - password consists of alphabets or numbers only.\n",
        "#         level 1 - Alphanumeric passwords.\n",
        "#         level 2 - Alphanumeric passwords with special characters\n",
        "  def get_level(self,test):\n",
        "    if test.isalpha() or test.isnumeric():      \n",
        "      print(\"Password is weak ------ (Security Level = 0).......!!!\")\n",
        "      return 0\n",
        "    elif (test.isalnum()):\n",
        "      print(\"Password is Good ------ (Security Level = 1).......!!\")\n",
        "      return 1\n",
        "    else:\n",
        "      flag1, flag2 , flag3 = 0, 0, 0\n",
        "      for x in test:\n",
        "        if x in '#@_!$%^&*()<>?/\\|}{~:]':\n",
        "          flag1 = 1\n",
        "        elif x.isalpha():\n",
        "          flag2 = 1\n",
        "        elif x.isnumeric():\n",
        "          flag3 = 1\n",
        "        if flag1 and flag2 and flag3 :\n",
        "          print(\"Password is Strong ------ (Security Level = 2).......!!!\")\n",
        "          return 2\n",
        "\n",
        "      return -1 \n",
        "                          \n",
        " \n"
      ]
    },
    {
      "cell_type": "code",
      "execution_count": null,
      "metadata": {
        "colab": {
          "base_uri": "https://localhost:8080/"
        },
        "id": "1YtxlVA49cHk",
        "outputId": "767afe8f-639c-4144-c356-ba7740bc8fcf"
      },
      "outputs": [
        {
          "name": "stdout",
          "output_type": "stream",
          "text": [
            " 1.New User?\n",
            " 2.Old User \n",
            " 3.Exit/Quit\n",
            "How we Know You ?2\n",
            " 1. View password \n",
            " 2. Change password \n",
            " 3. Check strength of my current password \n",
            " 4. Exit/Quit\n",
            "What do you want to do  ?1\n",
            "\n",
            " seju12 \n",
            "\n",
            "Your current password :  None\n",
            " 1. View password \n",
            " 2. Change password \n",
            " 3. Check strength of my current password \n",
            " 4. Exit/Quit\n"
          ]
        }
      ],
      "source": [
        "import getpass\n",
        "if __name__ == '__main__':\n",
        "  # User =  PasswordManager()\n",
        "  \n",
        "  ans = True\n",
        "  while ans:\n",
        "     print (\" 1.New User?\\n 2.Old User \\n 3.Exit/Quit\")\n",
        "     ans = input(\"How we Know You ?\") \n",
        "     if ans==\"1\": \n",
        "        User =  PasswordManager()\n",
        "        userName = input(\"Please enter the user name: \")\n",
        "        password = getpass.getpass('Password:')\n",
        "        # password = input(\"Please enter the password here: \")\n",
        "        User.set_password(password)\n",
        "     elif ans==\"2\":\n",
        "        # User.old_user()     \n",
        "        Ans = True\n",
        "        while ans:\n",
        "           print (\" 1. View password \\n 2. Change password \\n 3. Check strength of my current password \\n 4. Exit/Quit\")\n",
        "\n",
        "           Ans=input(\"What do you want to do  ?\") \n",
        "           if Ans==\"1\": \n",
        "               my_password =  User.print()   \n",
        "               print(\"Your current password : \", str(my_password))    \n",
        "           elif Ans==\"2\":\n",
        "                new_password = input(\"Please enter Your new password here: \")\n",
        "                User.set_password(new_password)\n",
        "           elif Ans == \"3\":\n",
        "                curr_pw = input(\"Please enter Your current password here: \")\n",
        "                if User.is_correct(curr_pw):\n",
        "                     User.get_level(curr_pw)  \n",
        "           elif Ans==\"4\":\n",
        "                print(\"\\n Goodbye.......\")   \n",
        "                ans = False\n",
        "                exit()   \n",
        "           elif Ans !=\"\":\n",
        "                # print(\"\\n Not Valid Choice Try again\") \n",
        "                ans = False\n",
        "                exit()  \n",
        "     elif ans==\"3\":\n",
        "        print(\"\\n Goodbye\")\n",
        "        ans = False\n",
        "        exit()      \n",
        "     elif ans !=\"\":\n",
        "        # print(\"\\n Not Valid Choice Try again\") \n",
        "        ans = False\n",
        "        exit() \n",
        " "
      ]
    },
    {
      "cell_type": "code",
      "execution_count": null,
      "metadata": {
        "id": "YcoiabiquHEr"
      },
      "outputs": [],
      "source": [
        "User1 = PasswordManager() \n",
        "User1.set_password('12345')\n",
        "User1.set_password('12345a')\n",
        "User1.set_password('12345a#%')\n",
        "User1.set_password('12345a#%*\"')\n",
        "User1.set_password('12345')\n"
      ]
    },
    {
      "cell_type": "code",
      "execution_count": null,
      "metadata": {
        "id": "KVSv-HPDuKQ4"
      },
      "outputs": [],
      "source": [
        "User1.old_passwords\n",
        "  \n",
        "\n",
        "\n"
      ]
    }
  ],
  "metadata": {
    "colab": {
      "collapsed_sections": [],
      "name": "Untitled0.ipynb",
      "provenance": []
    },
    "kernelspec": {
      "display_name": "Python 3",
      "name": "python3"
    },
    "language_info": {
      "name": "python"
    }
  },
  "nbformat": 4,
  "nbformat_minor": 0
}
